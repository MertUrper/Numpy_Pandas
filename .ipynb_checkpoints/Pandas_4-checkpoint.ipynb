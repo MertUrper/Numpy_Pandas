{
 "cells": [
  {
   "cell_type": "code",
   "execution_count": 1,
   "id": "e53954e5-4a18-478d-9aba-f5a50b49e77e",
   "metadata": {},
   "outputs": [],
   "source": [
    "import numpy as np\n",
    "import pandas as pd"
   ]
  },
  {
   "cell_type": "markdown",
   "id": "902bd1e3-2d0f-4781-94b1-c2398659f2ce",
   "metadata": {},
   "source": [
    "## Text Data - String Methods"
   ]
  },
  {
   "cell_type": "code",
   "execution_count": 50,
   "id": "06e4ddd8-b82a-4e7c-a367-9d95c9bd24df",
   "metadata": {},
   "outputs": [],
   "source": [
    "df = pd.DataFrame(data=[['Tyler DURDEN', 'HR', \"manager\", \"$180,000\", 55],\n",
    "                        ['MARIA puder', \"IT\", \"data analyst\", \"150000dolar\", 28],\n",
    "                        ['dorothy gale', \"HR\", \"recruiter\", \"$120,000\", 30],\n",
    "                        ['Edmond Dantes', \"IT\", \"data scientist\", \"$170,000\",\"-\"], \n",
    "                        ['Gregor SAMSA',\"IT\", \"frontend developer\", \"120000dolar\",32]],\n",
    "                  columns=[\"name\",\"dept\", \"job\", \"sales\", \"age\"])"
   ]
  },
  {
   "cell_type": "code",
   "execution_count": 51,
   "id": "4fa2aeb1-2a11-4a91-b5c7-4eba8f372c9e",
   "metadata": {},
   "outputs": [
    {
     "name": "stdout",
     "output_type": "stream",
     "text": [
      "<class 'pandas.core.frame.DataFrame'>\n",
      "RangeIndex: 5 entries, 0 to 4\n",
      "Data columns (total 5 columns):\n",
      " #   Column  Non-Null Count  Dtype \n",
      "---  ------  --------------  ----- \n",
      " 0   name    5 non-null      object\n",
      " 1   dept    5 non-null      object\n",
      " 2   job     5 non-null      object\n",
      " 3   sales   5 non-null      object\n",
      " 4   age     5 non-null      object\n",
      "dtypes: object(5)\n",
      "memory usage: 328.0+ bytes\n"
     ]
    }
   ],
   "source": [
    "df.info()"
   ]
  },
  {
   "cell_type": "code",
   "execution_count": 52,
   "id": "68d5a8c0-dad2-4a5e-9a11-e39f64338a4b",
   "metadata": {},
   "outputs": [
    {
     "data": {
      "text/html": [
       "<div>\n",
       "<style scoped>\n",
       "    .dataframe tbody tr th:only-of-type {\n",
       "        vertical-align: middle;\n",
       "    }\n",
       "\n",
       "    .dataframe tbody tr th {\n",
       "        vertical-align: top;\n",
       "    }\n",
       "\n",
       "    .dataframe thead th {\n",
       "        text-align: right;\n",
       "    }\n",
       "</style>\n",
       "<table border=\"1\" class=\"dataframe\">\n",
       "  <thead>\n",
       "    <tr style=\"text-align: right;\">\n",
       "      <th></th>\n",
       "      <th>name</th>\n",
       "      <th>dept</th>\n",
       "      <th>job</th>\n",
       "      <th>sales</th>\n",
       "      <th>age</th>\n",
       "    </tr>\n",
       "  </thead>\n",
       "  <tbody>\n",
       "    <tr>\n",
       "      <th>0</th>\n",
       "      <td>Tyler DURDEN</td>\n",
       "      <td>HR</td>\n",
       "      <td>manager</td>\n",
       "      <td>$180,000</td>\n",
       "      <td>55</td>\n",
       "    </tr>\n",
       "    <tr>\n",
       "      <th>1</th>\n",
       "      <td>MARIA puder</td>\n",
       "      <td>IT</td>\n",
       "      <td>data analyst</td>\n",
       "      <td>150000dolar</td>\n",
       "      <td>28</td>\n",
       "    </tr>\n",
       "    <tr>\n",
       "      <th>2</th>\n",
       "      <td>dorothy gale</td>\n",
       "      <td>HR</td>\n",
       "      <td>recruiter</td>\n",
       "      <td>$120,000</td>\n",
       "      <td>30</td>\n",
       "    </tr>\n",
       "    <tr>\n",
       "      <th>3</th>\n",
       "      <td>Edmond Dantes</td>\n",
       "      <td>IT</td>\n",
       "      <td>data scientist</td>\n",
       "      <td>$170,000</td>\n",
       "      <td>-</td>\n",
       "    </tr>\n",
       "    <tr>\n",
       "      <th>4</th>\n",
       "      <td>Gregor SAMSA</td>\n",
       "      <td>IT</td>\n",
       "      <td>frontend developer</td>\n",
       "      <td>120000dolar</td>\n",
       "      <td>32</td>\n",
       "    </tr>\n",
       "  </tbody>\n",
       "</table>\n",
       "</div>"
      ],
      "text/plain": [
       "            name dept                 job        sales age\n",
       "0   Tyler DURDEN   HR             manager     $180,000  55\n",
       "1    MARIA puder   IT        data analyst  150000dolar  28\n",
       "2   dorothy gale   HR           recruiter     $120,000  30\n",
       "3  Edmond Dantes   IT      data scientist     $170,000   -\n",
       "4   Gregor SAMSA   IT  frontend developer  120000dolar  32"
      ]
     },
     "execution_count": 52,
     "metadata": {},
     "output_type": "execute_result"
    }
   ],
   "source": [
    "df"
   ]
  },
  {
   "cell_type": "code",
   "execution_count": 53,
   "id": "d5cc2988-b9d0-44de-b242-c7a1ac2e3155",
   "metadata": {},
   "outputs": [
    {
     "data": {
      "text/plain": [
       "0     tyler durden\n",
       "1      maria puder\n",
       "2     dorothy gale\n",
       "3    edmond dantes\n",
       "4     gregor samsa\n",
       "Name: name, dtype: object"
      ]
     },
     "execution_count": 53,
     "metadata": {},
     "output_type": "execute_result"
    }
   ],
   "source": [
    "# Bir stringi küçük harfe dönüştürür\n",
    "df.name.str.lower()"
   ]
  },
  {
   "cell_type": "code",
   "execution_count": 54,
   "id": "6fca90a7-aeb8-439f-af11-64450b122f07",
   "metadata": {},
   "outputs": [
    {
     "data": {
      "text/plain": [
       "0     TYLER DURDEN\n",
       "1      MARIA PUDER\n",
       "2     DOROTHY GALE\n",
       "3    EDMOND DANTES\n",
       "4     GREGOR SAMSA\n",
       "Name: name, dtype: object"
      ]
     },
     "execution_count": 54,
     "metadata": {},
     "output_type": "execute_result"
    }
   ],
   "source": [
    "# Bir stringi büyük harfe dönüştürür\n",
    "df.name.str.upper()"
   ]
  },
  {
   "cell_type": "code",
   "execution_count": 10,
   "id": "8d6d0e48-2c82-4e20-9875-a68b5f02878f",
   "metadata": {},
   "outputs": [
    {
     "data": {
      "text/plain": [
       "0     Tyler Durden\n",
       "1      Maria Puder\n",
       "2     Dorothy Gale\n",
       "3    Edmond Dantes\n",
       "4     Gregor Samsa\n",
       "Name: name, dtype: object"
      ]
     },
     "execution_count": 10,
     "metadata": {},
     "output_type": "execute_result"
    }
   ],
   "source": [
    "# İlk karakteri büyük harfe dönüştürür\n",
    "df.name.str.title()"
   ]
  },
  {
   "cell_type": "code",
   "execution_count": 11,
   "id": "ed951c77-1c98-4fe8-8d10-665f7626fd6a",
   "metadata": {},
   "outputs": [
    {
     "data": {
      "text/plain": [
       "0     Tyler durden\n",
       "1      Maria puder\n",
       "2     Dorothy gale\n",
       "3    Edmond dantes\n",
       "4     Gregor samsa\n",
       "Name: name, dtype: object"
      ]
     },
     "execution_count": 11,
     "metadata": {},
     "output_type": "execute_result"
    }
   ],
   "source": [
    "# Her kelimenin ilk karakterini büyük harfe dönüştürür\n",
    "df.name.str.capitalize()"
   ]
  },
  {
   "cell_type": "code",
   "execution_count": 12,
   "id": "7c746d16-13ef-4384-832c-0a5ef0d37aac",
   "metadata": {},
   "outputs": [
    {
     "data": {
      "text/plain": [
       "0     tYLER durden\n",
       "1      maria PUDER\n",
       "2     DOROTHY GALE\n",
       "3    eDMOND dANTES\n",
       "4     gREGOR samsa\n",
       "Name: name, dtype: object"
      ]
     },
     "execution_count": 12,
     "metadata": {},
     "output_type": "execute_result"
    }
   ],
   "source": [
    "# Büyük harfleri küçük, küçük harfleri büyük harfe dönüştürür\n",
    "df.name.str.swapcase()"
   ]
  },
  {
   "cell_type": "code",
   "execution_count": 13,
   "id": "b3084082-8c82-4936-92be-4bcf5ed00a35",
   "metadata": {},
   "outputs": [
    {
     "data": {
      "text/html": [
       "<div>\n",
       "<style scoped>\n",
       "    .dataframe tbody tr th:only-of-type {\n",
       "        vertical-align: middle;\n",
       "    }\n",
       "\n",
       "    .dataframe tbody tr th {\n",
       "        vertical-align: top;\n",
       "    }\n",
       "\n",
       "    .dataframe thead th {\n",
       "        text-align: right;\n",
       "    }\n",
       "</style>\n",
       "<table border=\"1\" class=\"dataframe\">\n",
       "  <thead>\n",
       "    <tr style=\"text-align: right;\">\n",
       "      <th></th>\n",
       "      <th>name</th>\n",
       "      <th>dept</th>\n",
       "      <th>job</th>\n",
       "      <th>sales</th>\n",
       "      <th>age</th>\n",
       "    </tr>\n",
       "  </thead>\n",
       "  <tbody>\n",
       "    <tr>\n",
       "      <th>0</th>\n",
       "      <td>Tyler DURDEN</td>\n",
       "      <td>HR</td>\n",
       "      <td>manager</td>\n",
       "      <td>$180,000</td>\n",
       "      <td>55</td>\n",
       "    </tr>\n",
       "    <tr>\n",
       "      <th>1</th>\n",
       "      <td>MARIA puder</td>\n",
       "      <td>IT</td>\n",
       "      <td>data analyst</td>\n",
       "      <td>150000dolar</td>\n",
       "      <td>28</td>\n",
       "    </tr>\n",
       "    <tr>\n",
       "      <th>2</th>\n",
       "      <td>dorothy gale</td>\n",
       "      <td>HR</td>\n",
       "      <td>recruiter</td>\n",
       "      <td>$120,000</td>\n",
       "      <td>30</td>\n",
       "    </tr>\n",
       "    <tr>\n",
       "      <th>3</th>\n",
       "      <td>Edmond Dantes</td>\n",
       "      <td>IT</td>\n",
       "      <td>data scientist</td>\n",
       "      <td>$170,000</td>\n",
       "      <td>-</td>\n",
       "    </tr>\n",
       "    <tr>\n",
       "      <th>4</th>\n",
       "      <td>Gregor SAMSA</td>\n",
       "      <td>IT</td>\n",
       "      <td>frontend developer</td>\n",
       "      <td>120000dolar</td>\n",
       "      <td>32</td>\n",
       "    </tr>\n",
       "  </tbody>\n",
       "</table>\n",
       "</div>"
      ],
      "text/plain": [
       "            name dept                 job        sales age\n",
       "0   Tyler DURDEN   HR             manager     $180,000  55\n",
       "1    MARIA puder   IT        data analyst  150000dolar  28\n",
       "2   dorothy gale   HR           recruiter     $120,000  30\n",
       "3  Edmond Dantes   IT      data scientist     $170,000   -\n",
       "4   Gregor SAMSA   IT  frontend developer  120000dolar  32"
      ]
     },
     "execution_count": 13,
     "metadata": {},
     "output_type": "execute_result"
    }
   ],
   "source": [
    "df"
   ]
  },
  {
   "cell_type": "code",
   "execution_count": 14,
   "id": "26dc7e65-ee01-4ff9-98be-9d1abafeff2c",
   "metadata": {},
   "outputs": [
    {
     "data": {
      "text/plain": [
       "0     True\n",
       "1    False\n",
       "2     True\n",
       "3    False\n",
       "4    False\n",
       "Name: job, dtype: bool"
      ]
     },
     "execution_count": 14,
     "metadata": {},
     "output_type": "execute_result"
    }
   ],
   "source": [
    "# Tüm karakterlerin alfabede yer alıp almadığını kontrol ederek True veya False değeri döndürür\n",
    "df.job.str.isalpha()"
   ]
  },
  {
   "cell_type": "code",
   "execution_count": 15,
   "id": "4cbc1f59-d775-4063-9056-abdb652d24e8",
   "metadata": {},
   "outputs": [
    {
     "data": {
      "text/plain": [
       "0    False\n",
       "1    False\n",
       "2    False\n",
       "3    False\n",
       "4    False\n",
       "Name: job, dtype: bool"
      ]
     },
     "execution_count": 15,
     "metadata": {},
     "output_type": "execute_result"
    }
   ],
   "source": [
    "# Tüm karakterlerin sayısal değer içerip içermediğini kontrol ederek True veya False değeri döndürür\n",
    "df.job.str.isnumeric()"
   ]
  },
  {
   "cell_type": "code",
   "execution_count": 16,
   "id": "33705f7c-9dcf-41c6-a6c7-88330860ee53",
   "metadata": {},
   "outputs": [
    {
     "data": {
      "text/plain": [
       "0      NaN\n",
       "1      NaN\n",
       "2      NaN\n",
       "3    False\n",
       "4      NaN\n",
       "Name: age, dtype: object"
      ]
     },
     "execution_count": 16,
     "metadata": {},
     "output_type": "execute_result"
    }
   ],
   "source": [
    "df.age.str.isnumeric()"
   ]
  },
  {
   "cell_type": "code",
   "execution_count": 17,
   "id": "9fd06a78-8d36-4899-9b9e-e71ba252bbf8",
   "metadata": {},
   "outputs": [
    {
     "data": {
      "text/plain": [
       "0     True\n",
       "1     True\n",
       "2     True\n",
       "3    False\n",
       "4     True\n",
       "Name: age, dtype: boolean"
      ]
     },
     "execution_count": 17,
     "metadata": {},
     "output_type": "execute_result"
    }
   ],
   "source": [
    "df.age.astype(\"string\").str.isnumeric()"
   ]
  },
  {
   "cell_type": "code",
   "execution_count": 18,
   "id": "330e5d89-c49a-4482-b139-52a48b48d30b",
   "metadata": {},
   "outputs": [
    {
     "data": {
      "text/plain": [
       "0    False\n",
       "1     True\n",
       "2    False\n",
       "3    False\n",
       "4     True\n",
       "Name: sales, dtype: bool"
      ]
     },
     "execution_count": 18,
     "metadata": {},
     "output_type": "execute_result"
    }
   ],
   "source": [
    "# Tüm karakterlerin harf veya sayısal değer içerip içermediğini kontrol ederek True veya False değeri döndürür\n",
    "df.sales.str.isalnum()"
   ]
  },
  {
   "cell_type": "code",
   "execution_count": 19,
   "id": "2dffb403-ff76-44d2-b3ec-30473cb4adc5",
   "metadata": {},
   "outputs": [
    {
     "data": {
      "text/html": [
       "<div>\n",
       "<style scoped>\n",
       "    .dataframe tbody tr th:only-of-type {\n",
       "        vertical-align: middle;\n",
       "    }\n",
       "\n",
       "    .dataframe tbody tr th {\n",
       "        vertical-align: top;\n",
       "    }\n",
       "\n",
       "    .dataframe thead th {\n",
       "        text-align: right;\n",
       "    }\n",
       "</style>\n",
       "<table border=\"1\" class=\"dataframe\">\n",
       "  <thead>\n",
       "    <tr style=\"text-align: right;\">\n",
       "      <th></th>\n",
       "      <th>name</th>\n",
       "      <th>dept</th>\n",
       "      <th>job</th>\n",
       "      <th>sales</th>\n",
       "      <th>age</th>\n",
       "    </tr>\n",
       "  </thead>\n",
       "  <tbody>\n",
       "    <tr>\n",
       "      <th>0</th>\n",
       "      <td>Tyler DURDEN</td>\n",
       "      <td>HR</td>\n",
       "      <td>manager</td>\n",
       "      <td>$180,000</td>\n",
       "      <td>55</td>\n",
       "    </tr>\n",
       "    <tr>\n",
       "      <th>1</th>\n",
       "      <td>MARIA puder</td>\n",
       "      <td>IT</td>\n",
       "      <td>data analyst</td>\n",
       "      <td>150000dolar</td>\n",
       "      <td>28</td>\n",
       "    </tr>\n",
       "    <tr>\n",
       "      <th>2</th>\n",
       "      <td>dorothy gale</td>\n",
       "      <td>HR</td>\n",
       "      <td>recruiter</td>\n",
       "      <td>$120,000</td>\n",
       "      <td>30</td>\n",
       "    </tr>\n",
       "    <tr>\n",
       "      <th>3</th>\n",
       "      <td>Edmond Dantes</td>\n",
       "      <td>IT</td>\n",
       "      <td>data scientist</td>\n",
       "      <td>$170,000</td>\n",
       "      <td>-</td>\n",
       "    </tr>\n",
       "    <tr>\n",
       "      <th>4</th>\n",
       "      <td>Gregor SAMSA</td>\n",
       "      <td>IT</td>\n",
       "      <td>frontend developer</td>\n",
       "      <td>120000dolar</td>\n",
       "      <td>32</td>\n",
       "    </tr>\n",
       "  </tbody>\n",
       "</table>\n",
       "</div>"
      ],
      "text/plain": [
       "            name dept                 job        sales age\n",
       "0   Tyler DURDEN   HR             manager     $180,000  55\n",
       "1    MARIA puder   IT        data analyst  150000dolar  28\n",
       "2   dorothy gale   HR           recruiter     $120,000  30\n",
       "3  Edmond Dantes   IT      data scientist     $170,000   -\n",
       "4   Gregor SAMSA   IT  frontend developer  120000dolar  32"
      ]
     },
     "execution_count": 19,
     "metadata": {},
     "output_type": "execute_result"
    }
   ],
   "source": [
    "df"
   ]
  },
  {
   "cell_type": "code",
   "execution_count": 20,
   "id": "d712b257-66fe-46d6-8665-a029f5aca5d7",
   "metadata": {},
   "outputs": [
    {
     "data": {
      "text/plain": [
       "0    False\n",
       "1    False\n",
       "2    False\n",
       "3    False\n",
       "4     True\n",
       "Name: job, dtype: bool"
      ]
     },
     "execution_count": 20,
     "metadata": {},
     "output_type": "execute_result"
    }
   ],
   "source": [
    "# Bir stringin belirtilen değerle başladığını kontrol ederek True veya False değeri döndürür\n",
    "df.job.str.startswith(\"f\")"
   ]
  },
  {
   "cell_type": "code",
   "execution_count": 21,
   "id": "a04dacf4-367d-4ef1-a740-58f60d2e6cd1",
   "metadata": {},
   "outputs": [
    {
     "data": {
      "text/plain": [
       "0    False\n",
       "1     True\n",
       "2    False\n",
       "3     True\n",
       "4    False\n",
       "Name: job, dtype: bool"
      ]
     },
     "execution_count": 21,
     "metadata": {},
     "output_type": "execute_result"
    }
   ],
   "source": [
    "# Bir stringin belirtilen değerle bittiğini kontrol ederek True veya False değeri döndürür\n",
    "df.job.str.endswith(\"st\")"
   ]
  },
  {
   "cell_type": "code",
   "execution_count": 24,
   "id": "44aaa834-bd3e-465d-bf46-5f89b08e7868",
   "metadata": {},
   "outputs": [
    {
     "data": {
      "text/html": [
       "<div>\n",
       "<style scoped>\n",
       "    .dataframe tbody tr th:only-of-type {\n",
       "        vertical-align: middle;\n",
       "    }\n",
       "\n",
       "    .dataframe tbody tr th {\n",
       "        vertical-align: top;\n",
       "    }\n",
       "\n",
       "    .dataframe thead th {\n",
       "        text-align: right;\n",
       "    }\n",
       "</style>\n",
       "<table border=\"1\" class=\"dataframe\">\n",
       "  <thead>\n",
       "    <tr style=\"text-align: right;\">\n",
       "      <th></th>\n",
       "      <th>name</th>\n",
       "      <th>dept</th>\n",
       "      <th>job</th>\n",
       "      <th>sales</th>\n",
       "      <th>age</th>\n",
       "    </tr>\n",
       "  </thead>\n",
       "  <tbody>\n",
       "    <tr>\n",
       "      <th>1</th>\n",
       "      <td>MARIA puder</td>\n",
       "      <td>IT</td>\n",
       "      <td>data analyst</td>\n",
       "      <td>150000dolar</td>\n",
       "      <td>28</td>\n",
       "    </tr>\n",
       "    <tr>\n",
       "      <th>3</th>\n",
       "      <td>Edmond Dantes</td>\n",
       "      <td>IT</td>\n",
       "      <td>data scientist</td>\n",
       "      <td>$170,000</td>\n",
       "      <td>-</td>\n",
       "    </tr>\n",
       "  </tbody>\n",
       "</table>\n",
       "</div>"
      ],
      "text/plain": [
       "            name dept             job        sales age\n",
       "1    MARIA puder   IT    data analyst  150000dolar  28\n",
       "3  Edmond Dantes   IT  data scientist     $170,000   -"
      ]
     },
     "execution_count": 24,
     "metadata": {},
     "output_type": "execute_result"
    }
   ],
   "source": [
    "df[df.job.str.endswith(\"st\")]                  # sonucumuzu dataframe de görmek için bu formatı kullanırız"
   ]
  },
  {
   "cell_type": "code",
   "execution_count": 22,
   "id": "5f9b6141-0b0e-4ae7-b26e-0bffc86208df",
   "metadata": {},
   "outputs": [
    {
     "data": {
      "text/plain": [
       "0    False\n",
       "1     True\n",
       "2    False\n",
       "3     True\n",
       "4    False\n",
       "Name: job, dtype: bool"
      ]
     },
     "execution_count": 22,
     "metadata": {},
     "output_type": "execute_result"
    }
   ],
   "source": [
    "df.job.str.contains(\"data\")"
   ]
  },
  {
   "cell_type": "code",
   "execution_count": 23,
   "id": "b7c91c33-b707-4043-9898-8148bc161c7b",
   "metadata": {},
   "outputs": [
    {
     "data": {
      "text/html": [
       "<div>\n",
       "<style scoped>\n",
       "    .dataframe tbody tr th:only-of-type {\n",
       "        vertical-align: middle;\n",
       "    }\n",
       "\n",
       "    .dataframe tbody tr th {\n",
       "        vertical-align: top;\n",
       "    }\n",
       "\n",
       "    .dataframe thead th {\n",
       "        text-align: right;\n",
       "    }\n",
       "</style>\n",
       "<table border=\"1\" class=\"dataframe\">\n",
       "  <thead>\n",
       "    <tr style=\"text-align: right;\">\n",
       "      <th></th>\n",
       "      <th>name</th>\n",
       "      <th>dept</th>\n",
       "      <th>job</th>\n",
       "      <th>sales</th>\n",
       "      <th>age</th>\n",
       "    </tr>\n",
       "  </thead>\n",
       "  <tbody>\n",
       "    <tr>\n",
       "      <th>1</th>\n",
       "      <td>MARIA puder</td>\n",
       "      <td>IT</td>\n",
       "      <td>data analyst</td>\n",
       "      <td>150000dolar</td>\n",
       "      <td>28</td>\n",
       "    </tr>\n",
       "    <tr>\n",
       "      <th>3</th>\n",
       "      <td>Edmond Dantes</td>\n",
       "      <td>IT</td>\n",
       "      <td>data scientist</td>\n",
       "      <td>$170,000</td>\n",
       "      <td>-</td>\n",
       "    </tr>\n",
       "  </tbody>\n",
       "</table>\n",
       "</div>"
      ],
      "text/plain": [
       "            name dept             job        sales age\n",
       "1    MARIA puder   IT    data analyst  150000dolar  28\n",
       "3  Edmond Dantes   IT  data scientist     $170,000   -"
      ]
     },
     "execution_count": 23,
     "metadata": {},
     "output_type": "execute_result"
    }
   ],
   "source": [
    "# Bir alt dizinin bir dizede bulunup bulunmadığını kontrol ederek her bir öğe için True veya False değeri döndürür\n",
    "df[df.job.str.contains(\"data\")]"
   ]
  },
  {
   "cell_type": "code",
   "execution_count": 25,
   "id": "cdd38a79-a8fa-4fa0-b02a-f59f0b6e60c3",
   "metadata": {},
   "outputs": [
    {
     "data": {
      "text/html": [
       "<div>\n",
       "<style scoped>\n",
       "    .dataframe tbody tr th:only-of-type {\n",
       "        vertical-align: middle;\n",
       "    }\n",
       "\n",
       "    .dataframe tbody tr th {\n",
       "        vertical-align: top;\n",
       "    }\n",
       "\n",
       "    .dataframe thead th {\n",
       "        text-align: right;\n",
       "    }\n",
       "</style>\n",
       "<table border=\"1\" class=\"dataframe\">\n",
       "  <thead>\n",
       "    <tr style=\"text-align: right;\">\n",
       "      <th></th>\n",
       "      <th>name</th>\n",
       "      <th>dept</th>\n",
       "      <th>job</th>\n",
       "      <th>sales</th>\n",
       "      <th>age</th>\n",
       "    </tr>\n",
       "  </thead>\n",
       "  <tbody>\n",
       "    <tr>\n",
       "      <th>0</th>\n",
       "      <td>Tyler DURDEN</td>\n",
       "      <td>HR</td>\n",
       "      <td>manager</td>\n",
       "      <td>$180,000</td>\n",
       "      <td>55</td>\n",
       "    </tr>\n",
       "    <tr>\n",
       "      <th>1</th>\n",
       "      <td>MARIA puder</td>\n",
       "      <td>IT</td>\n",
       "      <td>data analyst</td>\n",
       "      <td>150000dolar</td>\n",
       "      <td>28</td>\n",
       "    </tr>\n",
       "    <tr>\n",
       "      <th>2</th>\n",
       "      <td>dorothy gale</td>\n",
       "      <td>HR</td>\n",
       "      <td>recruiter</td>\n",
       "      <td>$120,000</td>\n",
       "      <td>30</td>\n",
       "    </tr>\n",
       "    <tr>\n",
       "      <th>3</th>\n",
       "      <td>Edmond Dantes</td>\n",
       "      <td>IT</td>\n",
       "      <td>data scientist</td>\n",
       "      <td>$170,000</td>\n",
       "      <td>-</td>\n",
       "    </tr>\n",
       "    <tr>\n",
       "      <th>4</th>\n",
       "      <td>Gregor SAMSA</td>\n",
       "      <td>IT</td>\n",
       "      <td>frontend developer</td>\n",
       "      <td>120000dolar</td>\n",
       "      <td>32</td>\n",
       "    </tr>\n",
       "  </tbody>\n",
       "</table>\n",
       "</div>"
      ],
      "text/plain": [
       "            name dept                 job        sales age\n",
       "0   Tyler DURDEN   HR             manager     $180,000  55\n",
       "1    MARIA puder   IT        data analyst  150000dolar  28\n",
       "2   dorothy gale   HR           recruiter     $120,000  30\n",
       "3  Edmond Dantes   IT      data scientist     $170,000   -\n",
       "4   Gregor SAMSA   IT  frontend developer  120000dolar  32"
      ]
     },
     "execution_count": 25,
     "metadata": {},
     "output_type": "execute_result"
    }
   ],
   "source": [
    "df"
   ]
  },
  {
   "cell_type": "code",
   "execution_count": 26,
   "id": "593e74de-106d-427a-95e8-ad77fc7a99ea",
   "metadata": {},
   "outputs": [
    {
     "data": {
      "text/plain": [
       "0    $180,000\n",
       "1      150000\n",
       "2    $120,000\n",
       "3    $170,000\n",
       "4      120000\n",
       "Name: sales, dtype: object"
      ]
     },
     "execution_count": 26,
     "metadata": {},
     "output_type": "execute_result"
    }
   ],
   "source": [
    "# str.rstrip(): Bir stringin sonundaki boşlukları temizler ve kırpılmış bir versiyonunu döndürür\n",
    "df.sales.str.rstrip(\"dolar\")"
   ]
  },
  {
   "cell_type": "code",
   "execution_count": 27,
   "id": "60f81720-4b18-43e7-9041-2c3dde48dafb",
   "metadata": {},
   "outputs": [
    {
     "data": {
      "text/plain": [
       "0    180,000\n",
       "1     150000\n",
       "2    120,000\n",
       "3    170,000\n",
       "4     120000\n",
       "Name: sales, dtype: object"
      ]
     },
     "execution_count": 27,
     "metadata": {},
     "output_type": "execute_result"
    }
   ],
   "source": [
    "df.sales.str.rstrip(\"dolar\").str.lstrip(\"$\")"
   ]
  },
  {
   "cell_type": "code",
   "execution_count": 28,
   "id": "89e56893-02dd-4025-92f1-4e61fc0a35c0",
   "metadata": {},
   "outputs": [
    {
     "data": {
      "text/plain": [
       "0    180,000\n",
       "1     150000\n",
       "2    120,000\n",
       "3    170,000\n",
       "4     120000\n",
       "Name: sales, dtype: object"
      ]
     },
     "execution_count": 28,
     "metadata": {},
     "output_type": "execute_result"
    }
   ],
   "source": [
    "# tek satırda yazmak istersek \n",
    "# str.strip(): Bir stringin başındaki ve sonundaki boşlukları temizler ve kırpılmış bir versiyonunu döndürür\n",
    "df.sales.str.strip(\"dolar$\")"
   ]
  },
  {
   "cell_type": "code",
   "execution_count": 29,
   "id": "7af95a94-400d-479c-ab14-f2242977e3ae",
   "metadata": {},
   "outputs": [
    {
     "data": {
      "text/plain": [
       "0    180000\n",
       "1    150000\n",
       "2    120000\n",
       "3    170000\n",
       "4    120000\n",
       "Name: sales, dtype: object"
      ]
     },
     "execution_count": 29,
     "metadata": {},
     "output_type": "execute_result"
    }
   ],
   "source": [
    "# sonucu tek formatta görmek istersek\n",
    "df.sales.str.strip(\"dolar$\").str.replace(\",\", \"\")"
   ]
  },
  {
   "cell_type": "code",
   "execution_count": 30,
   "id": "354d5fc5-5edb-45c3-a169-86636854a517",
   "metadata": {},
   "outputs": [
    {
     "data": {
      "text/plain": [
       "0    180000.0\n",
       "1    150000.0\n",
       "2    120000.0\n",
       "3    170000.0\n",
       "4    120000.0\n",
       "Name: sales, dtype: float64"
      ]
     },
     "execution_count": 30,
     "metadata": {},
     "output_type": "execute_result"
    }
   ],
   "source": [
    "# object'ten float dönüşümü yapmak istersek \n",
    "df.sales.str.strip(\"dolar$\").str.replace(\",\", \"\").astype(float)"
   ]
  },
  {
   "cell_type": "code",
   "execution_count": 31,
   "id": "48c36d4b-a965-4c79-8abb-d7f7d45781a7",
   "metadata": {},
   "outputs": [
    {
     "data": {
      "text/html": [
       "<div>\n",
       "<style scoped>\n",
       "    .dataframe tbody tr th:only-of-type {\n",
       "        vertical-align: middle;\n",
       "    }\n",
       "\n",
       "    .dataframe tbody tr th {\n",
       "        vertical-align: top;\n",
       "    }\n",
       "\n",
       "    .dataframe thead th {\n",
       "        text-align: right;\n",
       "    }\n",
       "</style>\n",
       "<table border=\"1\" class=\"dataframe\">\n",
       "  <thead>\n",
       "    <tr style=\"text-align: right;\">\n",
       "      <th></th>\n",
       "      <th>name</th>\n",
       "      <th>dept</th>\n",
       "      <th>job</th>\n",
       "      <th>sales</th>\n",
       "      <th>age</th>\n",
       "    </tr>\n",
       "  </thead>\n",
       "  <tbody>\n",
       "    <tr>\n",
       "      <th>0</th>\n",
       "      <td>Tyler DURDEN</td>\n",
       "      <td>HR</td>\n",
       "      <td>manager</td>\n",
       "      <td>180000.0</td>\n",
       "      <td>55</td>\n",
       "    </tr>\n",
       "    <tr>\n",
       "      <th>1</th>\n",
       "      <td>MARIA puder</td>\n",
       "      <td>IT</td>\n",
       "      <td>data analyst</td>\n",
       "      <td>150000.0</td>\n",
       "      <td>28</td>\n",
       "    </tr>\n",
       "    <tr>\n",
       "      <th>2</th>\n",
       "      <td>dorothy gale</td>\n",
       "      <td>HR</td>\n",
       "      <td>recruiter</td>\n",
       "      <td>120000.0</td>\n",
       "      <td>30</td>\n",
       "    </tr>\n",
       "    <tr>\n",
       "      <th>3</th>\n",
       "      <td>Edmond Dantes</td>\n",
       "      <td>IT</td>\n",
       "      <td>data scientist</td>\n",
       "      <td>170000.0</td>\n",
       "      <td>-</td>\n",
       "    </tr>\n",
       "    <tr>\n",
       "      <th>4</th>\n",
       "      <td>Gregor SAMSA</td>\n",
       "      <td>IT</td>\n",
       "      <td>frontend developer</td>\n",
       "      <td>120000.0</td>\n",
       "      <td>32</td>\n",
       "    </tr>\n",
       "  </tbody>\n",
       "</table>\n",
       "</div>"
      ],
      "text/plain": [
       "            name dept                 job     sales age\n",
       "0   Tyler DURDEN   HR             manager  180000.0  55\n",
       "1    MARIA puder   IT        data analyst  150000.0  28\n",
       "2   dorothy gale   HR           recruiter  120000.0  30\n",
       "3  Edmond Dantes   IT      data scientist  170000.0   -\n",
       "4   Gregor SAMSA   IT  frontend developer  120000.0  32"
      ]
     },
     "execution_count": 31,
     "metadata": {},
     "output_type": "execute_result"
    }
   ],
   "source": [
    "df.sales = df.sales.str.strip(\"dolar$\").str.replace(\",\", \"\").astype(float)\n",
    "df"
   ]
  },
  {
   "cell_type": "code",
   "execution_count": 33,
   "id": "8bc67a04-11fd-4fe2-aad8-c094f04c4cce",
   "metadata": {},
   "outputs": [
    {
     "data": {
      "text/html": [
       "<div>\n",
       "<style scoped>\n",
       "    .dataframe tbody tr th:only-of-type {\n",
       "        vertical-align: middle;\n",
       "    }\n",
       "\n",
       "    .dataframe tbody tr th {\n",
       "        vertical-align: top;\n",
       "    }\n",
       "\n",
       "    .dataframe thead th {\n",
       "        text-align: right;\n",
       "    }\n",
       "</style>\n",
       "<table border=\"1\" class=\"dataframe\">\n",
       "  <thead>\n",
       "    <tr style=\"text-align: right;\">\n",
       "      <th></th>\n",
       "      <th>name</th>\n",
       "      <th>dept</th>\n",
       "      <th>job</th>\n",
       "      <th>sales</th>\n",
       "      <th>age</th>\n",
       "    </tr>\n",
       "  </thead>\n",
       "  <tbody>\n",
       "    <tr>\n",
       "      <th>0</th>\n",
       "      <td>Tyler DURDEN</td>\n",
       "      <td>HR</td>\n",
       "      <td>manager</td>\n",
       "      <td>180000.0</td>\n",
       "      <td>55.0</td>\n",
       "    </tr>\n",
       "    <tr>\n",
       "      <th>1</th>\n",
       "      <td>MARIA puder</td>\n",
       "      <td>IT</td>\n",
       "      <td>data analyst</td>\n",
       "      <td>150000.0</td>\n",
       "      <td>28.0</td>\n",
       "    </tr>\n",
       "    <tr>\n",
       "      <th>2</th>\n",
       "      <td>dorothy gale</td>\n",
       "      <td>HR</td>\n",
       "      <td>recruiter</td>\n",
       "      <td>120000.0</td>\n",
       "      <td>30.0</td>\n",
       "    </tr>\n",
       "    <tr>\n",
       "      <th>3</th>\n",
       "      <td>Edmond Dantes</td>\n",
       "      <td>IT</td>\n",
       "      <td>data scientist</td>\n",
       "      <td>170000.0</td>\n",
       "      <td>NaN</td>\n",
       "    </tr>\n",
       "    <tr>\n",
       "      <th>4</th>\n",
       "      <td>Gregor SAMSA</td>\n",
       "      <td>IT</td>\n",
       "      <td>frontend developer</td>\n",
       "      <td>120000.0</td>\n",
       "      <td>32.0</td>\n",
       "    </tr>\n",
       "  </tbody>\n",
       "</table>\n",
       "</div>"
      ],
      "text/plain": [
       "            name dept                 job     sales   age\n",
       "0   Tyler DURDEN   HR             manager  180000.0  55.0\n",
       "1    MARIA puder   IT        data analyst  150000.0  28.0\n",
       "2   dorothy gale   HR           recruiter  120000.0  30.0\n",
       "3  Edmond Dantes   IT      data scientist  170000.0   NaN\n",
       "4   Gregor SAMSA   IT  frontend developer  120000.0  32.0"
      ]
     },
     "execution_count": 33,
     "metadata": {},
     "output_type": "execute_result"
    }
   ],
   "source": [
    "# anlamsız değerleri nan yapalım\n",
    "df.age = df.age.replace(\"-\", np.nan)\n",
    "df"
   ]
  },
  {
   "cell_type": "code",
   "execution_count": 34,
   "id": "8fba6b19-cde2-4ff6-bfa8-97d84e9a3f7b",
   "metadata": {},
   "outputs": [
    {
     "data": {
      "text/plain": [
       "0     [Tyler, Durden]\n",
       "1      [Maria, Puder]\n",
       "2     [Dorothy, Gale]\n",
       "3    [Edmond, Dantes]\n",
       "4     [Gregor, Samsa]\n",
       "Name: name, dtype: object"
      ]
     },
     "execution_count": 34,
     "metadata": {},
     "output_type": "execute_result"
    }
   ],
   "source": [
    "df.name.str.title().str.split()"
   ]
  },
  {
   "cell_type": "code",
   "execution_count": 35,
   "id": "a382b274-ebbe-457c-a5e4-d70d79c0857a",
   "metadata": {},
   "outputs": [
    {
     "data": {
      "text/plain": [
       "0      Tyler\n",
       "1      Maria\n",
       "2    Dorothy\n",
       "3     Edmond\n",
       "4     Gregor\n",
       "Name: name, dtype: object"
      ]
     },
     "execution_count": 35,
     "metadata": {},
     "output_type": "execute_result"
    }
   ],
   "source": [
    "df.name.str.title().str.split().str[0]"
   ]
  },
  {
   "cell_type": "code",
   "execution_count": 36,
   "id": "970e3bbf-eafd-4562-8ff5-7db7edb2d146",
   "metadata": {},
   "outputs": [
    {
     "data": {
      "text/plain": [
       "0    Durden\n",
       "1     Puder\n",
       "2      Gale\n",
       "3    Dantes\n",
       "4     Samsa\n",
       "Name: name, dtype: object"
      ]
     },
     "execution_count": 36,
     "metadata": {},
     "output_type": "execute_result"
    }
   ],
   "source": [
    "df.name.str.title().str.split().str[1]"
   ]
  },
  {
   "cell_type": "code",
   "execution_count": null,
   "id": "be73ee2b-6c4c-4fa3-b04a-2c60baa981ae",
   "metadata": {},
   "outputs": [],
   "source": [
    "# df[\"first_name\"] = df.name.str.title().str.split().str[0]\n",
    "# df[\"last_name\"] = df.name.str.title().str.split().str[1]     aşağıdaki kod daha kısa yoldan"
   ]
  },
  {
   "cell_type": "code",
   "execution_count": 37,
   "id": "b6cb754b-cfcf-42ca-89e4-76d1603901d7",
   "metadata": {},
   "outputs": [
    {
     "data": {
      "text/html": [
       "<div>\n",
       "<style scoped>\n",
       "    .dataframe tbody tr th:only-of-type {\n",
       "        vertical-align: middle;\n",
       "    }\n",
       "\n",
       "    .dataframe tbody tr th {\n",
       "        vertical-align: top;\n",
       "    }\n",
       "\n",
       "    .dataframe thead th {\n",
       "        text-align: right;\n",
       "    }\n",
       "</style>\n",
       "<table border=\"1\" class=\"dataframe\">\n",
       "  <thead>\n",
       "    <tr style=\"text-align: right;\">\n",
       "      <th></th>\n",
       "      <th>name</th>\n",
       "      <th>dept</th>\n",
       "      <th>job</th>\n",
       "      <th>sales</th>\n",
       "      <th>age</th>\n",
       "      <th>first_name</th>\n",
       "      <th>last_name</th>\n",
       "    </tr>\n",
       "  </thead>\n",
       "  <tbody>\n",
       "    <tr>\n",
       "      <th>0</th>\n",
       "      <td>Tyler DURDEN</td>\n",
       "      <td>HR</td>\n",
       "      <td>manager</td>\n",
       "      <td>180000.0</td>\n",
       "      <td>55.0</td>\n",
       "      <td>Tyler</td>\n",
       "      <td>Durden</td>\n",
       "    </tr>\n",
       "    <tr>\n",
       "      <th>1</th>\n",
       "      <td>MARIA puder</td>\n",
       "      <td>IT</td>\n",
       "      <td>data analyst</td>\n",
       "      <td>150000.0</td>\n",
       "      <td>28.0</td>\n",
       "      <td>Maria</td>\n",
       "      <td>Puder</td>\n",
       "    </tr>\n",
       "    <tr>\n",
       "      <th>2</th>\n",
       "      <td>dorothy gale</td>\n",
       "      <td>HR</td>\n",
       "      <td>recruiter</td>\n",
       "      <td>120000.0</td>\n",
       "      <td>30.0</td>\n",
       "      <td>Dorothy</td>\n",
       "      <td>Gale</td>\n",
       "    </tr>\n",
       "    <tr>\n",
       "      <th>3</th>\n",
       "      <td>Edmond Dantes</td>\n",
       "      <td>IT</td>\n",
       "      <td>data scientist</td>\n",
       "      <td>170000.0</td>\n",
       "      <td>NaN</td>\n",
       "      <td>Edmond</td>\n",
       "      <td>Dantes</td>\n",
       "    </tr>\n",
       "    <tr>\n",
       "      <th>4</th>\n",
       "      <td>Gregor SAMSA</td>\n",
       "      <td>IT</td>\n",
       "      <td>frontend developer</td>\n",
       "      <td>120000.0</td>\n",
       "      <td>32.0</td>\n",
       "      <td>Gregor</td>\n",
       "      <td>Samsa</td>\n",
       "    </tr>\n",
       "  </tbody>\n",
       "</table>\n",
       "</div>"
      ],
      "text/plain": [
       "            name dept                 job     sales   age first_name last_name\n",
       "0   Tyler DURDEN   HR             manager  180000.0  55.0      Tyler    Durden\n",
       "1    MARIA puder   IT        data analyst  150000.0  28.0      Maria     Puder\n",
       "2   dorothy gale   HR           recruiter  120000.0  30.0    Dorothy      Gale\n",
       "3  Edmond Dantes   IT      data scientist  170000.0   NaN     Edmond    Dantes\n",
       "4   Gregor SAMSA   IT  frontend developer  120000.0  32.0     Gregor     Samsa"
      ]
     },
     "execution_count": 37,
     "metadata": {},
     "output_type": "execute_result"
    }
   ],
   "source": [
    "df[\"first_name\"], df[\"last_name\"] = [df.name.str.title().str.split().str[i] for i in range(2)]\n",
    "df"
   ]
  },
  {
   "cell_type": "code",
   "execution_count": 38,
   "id": "e9a9a22b-ea27-4303-8c30-1dd191c1a628",
   "metadata": {},
   "outputs": [],
   "source": [
    "df.drop(\"name\", axis=1, inplace=True)"
   ]
  },
  {
   "cell_type": "code",
   "execution_count": 39,
   "id": "95c37052-1a1b-4b41-bb4a-72b338a4e33a",
   "metadata": {},
   "outputs": [
    {
     "data": {
      "text/html": [
       "<div>\n",
       "<style scoped>\n",
       "    .dataframe tbody tr th:only-of-type {\n",
       "        vertical-align: middle;\n",
       "    }\n",
       "\n",
       "    .dataframe tbody tr th {\n",
       "        vertical-align: top;\n",
       "    }\n",
       "\n",
       "    .dataframe thead th {\n",
       "        text-align: right;\n",
       "    }\n",
       "</style>\n",
       "<table border=\"1\" class=\"dataframe\">\n",
       "  <thead>\n",
       "    <tr style=\"text-align: right;\">\n",
       "      <th></th>\n",
       "      <th>dept</th>\n",
       "      <th>job</th>\n",
       "      <th>sales</th>\n",
       "      <th>age</th>\n",
       "      <th>first_name</th>\n",
       "      <th>last_name</th>\n",
       "    </tr>\n",
       "  </thead>\n",
       "  <tbody>\n",
       "    <tr>\n",
       "      <th>0</th>\n",
       "      <td>HR</td>\n",
       "      <td>manager</td>\n",
       "      <td>180000.0</td>\n",
       "      <td>55.0</td>\n",
       "      <td>Tyler</td>\n",
       "      <td>Durden</td>\n",
       "    </tr>\n",
       "    <tr>\n",
       "      <th>1</th>\n",
       "      <td>IT</td>\n",
       "      <td>data analyst</td>\n",
       "      <td>150000.0</td>\n",
       "      <td>28.0</td>\n",
       "      <td>Maria</td>\n",
       "      <td>Puder</td>\n",
       "    </tr>\n",
       "    <tr>\n",
       "      <th>2</th>\n",
       "      <td>HR</td>\n",
       "      <td>recruiter</td>\n",
       "      <td>120000.0</td>\n",
       "      <td>30.0</td>\n",
       "      <td>Dorothy</td>\n",
       "      <td>Gale</td>\n",
       "    </tr>\n",
       "    <tr>\n",
       "      <th>3</th>\n",
       "      <td>IT</td>\n",
       "      <td>data scientist</td>\n",
       "      <td>170000.0</td>\n",
       "      <td>NaN</td>\n",
       "      <td>Edmond</td>\n",
       "      <td>Dantes</td>\n",
       "    </tr>\n",
       "    <tr>\n",
       "      <th>4</th>\n",
       "      <td>IT</td>\n",
       "      <td>frontend developer</td>\n",
       "      <td>120000.0</td>\n",
       "      <td>32.0</td>\n",
       "      <td>Gregor</td>\n",
       "      <td>Samsa</td>\n",
       "    </tr>\n",
       "  </tbody>\n",
       "</table>\n",
       "</div>"
      ],
      "text/plain": [
       "  dept                 job     sales   age first_name last_name\n",
       "0   HR             manager  180000.0  55.0      Tyler    Durden\n",
       "1   IT        data analyst  150000.0  28.0      Maria     Puder\n",
       "2   HR           recruiter  120000.0  30.0    Dorothy      Gale\n",
       "3   IT      data scientist  170000.0   NaN     Edmond    Dantes\n",
       "4   IT  frontend developer  120000.0  32.0     Gregor     Samsa"
      ]
     },
     "execution_count": 39,
     "metadata": {},
     "output_type": "execute_result"
    }
   ],
   "source": [
    "df"
   ]
  },
  {
   "cell_type": "code",
   "execution_count": 40,
   "id": "49705683-ccd1-4e6c-8f92-ba97c84de899",
   "metadata": {},
   "outputs": [
    {
     "data": {
      "text/plain": [
       "0     5\n",
       "1    -1\n",
       "2     7\n",
       "3    -1\n",
       "4    16\n",
       "Name: job, dtype: int64"
      ]
     },
     "execution_count": 40,
     "metadata": {},
     "output_type": "execute_result"
    }
   ],
   "source": [
    "# str.find(): Bir stringde belirtilen bir değeri arar ve bulunduğu konumun indeksini döndürür\n",
    "df.job.str.find(\"er\")"
   ]
  },
  {
   "cell_type": "code",
   "execution_count": 41,
   "id": "6d4a6b30-1020-4e54-bb13-0c3ded76c91d",
   "metadata": {},
   "outputs": [
    {
     "data": {
      "text/plain": [
       "0             []\n",
       "1             []\n",
       "2             []\n",
       "3             []\n",
       "4    [developer]\n",
       "Name: job, dtype: object"
      ]
     },
     "execution_count": 41,
     "metadata": {},
     "output_type": "execute_result"
    }
   ],
   "source": [
    "# str.findall(): Bir satırdaki tüm örneklerin bir listesini döndürür\n",
    "df.job.str.findall(\"developer\")"
   ]
  },
  {
   "cell_type": "code",
   "execution_count": 42,
   "id": "978d71f5-0b23-46b3-a299-2c56211a95ee",
   "metadata": {},
   "outputs": [
    {
     "data": {
      "text/plain": [
       "0        []\n",
       "1       [d]\n",
       "2        []\n",
       "3       [d]\n",
       "4    [d, d]\n",
       "Name: job, dtype: object"
      ]
     },
     "execution_count": 42,
     "metadata": {},
     "output_type": "execute_result"
    }
   ],
   "source": [
    "df.job.str.findall(\"d\")"
   ]
  },
  {
   "cell_type": "code",
   "execution_count": 43,
   "id": "4d12ca02-34d9-45c2-ae62-8c50a84a6acb",
   "metadata": {},
   "outputs": [
    {
     "data": {
      "text/plain": [
       "0    0\n",
       "1    1\n",
       "2    0\n",
       "3    1\n",
       "4    2\n",
       "Name: job, dtype: int64"
      ]
     },
     "execution_count": 43,
     "metadata": {},
     "output_type": "execute_result"
    }
   ],
   "source": [
    "df.job.str.findall(\"d\").apply(len)"
   ]
  },
  {
   "cell_type": "code",
   "execution_count": null,
   "id": "6ccc1714-6791-40b8-867d-2a6a0f6690af",
   "metadata": {},
   "outputs": [],
   "source": []
  },
  {
   "cell_type": "code",
   "execution_count": 44,
   "id": "61c83ca9-0d52-41da-9a67-1531b2bdb22c",
   "metadata": {},
   "outputs": [
    {
     "data": {
      "text/html": [
       "<div>\n",
       "<style scoped>\n",
       "    .dataframe tbody tr th:only-of-type {\n",
       "        vertical-align: middle;\n",
       "    }\n",
       "\n",
       "    .dataframe tbody tr th {\n",
       "        vertical-align: top;\n",
       "    }\n",
       "\n",
       "    .dataframe thead th {\n",
       "        text-align: right;\n",
       "    }\n",
       "</style>\n",
       "<table border=\"1\" class=\"dataframe\">\n",
       "  <thead>\n",
       "    <tr style=\"text-align: right;\">\n",
       "      <th></th>\n",
       "      <th>dept</th>\n",
       "      <th>job</th>\n",
       "      <th>sales</th>\n",
       "      <th>age</th>\n",
       "      <th>first_name</th>\n",
       "      <th>last_name</th>\n",
       "      <th>skills</th>\n",
       "      <th>Skills</th>\n",
       "    </tr>\n",
       "  </thead>\n",
       "  <tbody>\n",
       "    <tr>\n",
       "      <th>0</th>\n",
       "      <td>HR</td>\n",
       "      <td>manager</td>\n",
       "      <td>180000.0</td>\n",
       "      <td>55.0</td>\n",
       "      <td>Tyler</td>\n",
       "      <td>Durden</td>\n",
       "      <td>[]</td>\n",
       "      <td>[]</td>\n",
       "    </tr>\n",
       "    <tr>\n",
       "      <th>1</th>\n",
       "      <td>IT</td>\n",
       "      <td>data analyst</td>\n",
       "      <td>150000.0</td>\n",
       "      <td>28.0</td>\n",
       "      <td>Maria</td>\n",
       "      <td>Puder</td>\n",
       "      <td>[Python, Tableau, SQL]</td>\n",
       "      <td>Python, Tableau, SQL</td>\n",
       "    </tr>\n",
       "    <tr>\n",
       "      <th>2</th>\n",
       "      <td>HR</td>\n",
       "      <td>recruiter</td>\n",
       "      <td>120000.0</td>\n",
       "      <td>30.0</td>\n",
       "      <td>Dorothy</td>\n",
       "      <td>Gale</td>\n",
       "      <td>[]</td>\n",
       "      <td>[]</td>\n",
       "    </tr>\n",
       "    <tr>\n",
       "      <th>3</th>\n",
       "      <td>IT</td>\n",
       "      <td>data scientist</td>\n",
       "      <td>170000.0</td>\n",
       "      <td>NaN</td>\n",
       "      <td>Edmond</td>\n",
       "      <td>Dantes</td>\n",
       "      <td>[ML, DL, NLP]</td>\n",
       "      <td>[ML, DL, NLP]</td>\n",
       "    </tr>\n",
       "    <tr>\n",
       "      <th>4</th>\n",
       "      <td>IT</td>\n",
       "      <td>frontend developer</td>\n",
       "      <td>120000.0</td>\n",
       "      <td>32.0</td>\n",
       "      <td>Gregor</td>\n",
       "      <td>Samsa</td>\n",
       "      <td>[React, Django]</td>\n",
       "      <td>[React, Django]</td>\n",
       "    </tr>\n",
       "  </tbody>\n",
       "</table>\n",
       "</div>"
      ],
      "text/plain": [
       "  dept                 job     sales   age first_name last_name  \\\n",
       "0   HR             manager  180000.0  55.0      Tyler    Durden   \n",
       "1   IT        data analyst  150000.0  28.0      Maria     Puder   \n",
       "2   HR           recruiter  120000.0  30.0    Dorothy      Gale   \n",
       "3   IT      data scientist  170000.0   NaN     Edmond    Dantes   \n",
       "4   IT  frontend developer  120000.0  32.0     Gregor     Samsa   \n",
       "\n",
       "                   skills                Skills  \n",
       "0                      []                    []  \n",
       "1  [Python, Tableau, SQL]  Python, Tableau, SQL  \n",
       "2                      []                    []  \n",
       "3           [ML, DL, NLP]         [ML, DL, NLP]  \n",
       "4         [React, Django]       [React, Django]  "
      ]
     },
     "execution_count": 44,
     "metadata": {},
     "output_type": "execute_result"
    }
   ],
   "source": [
    "df[\"skills\"] = [[], [\"Python\", \"Tableau\", \"SQL\"], [], [\"ML\", \"DL\", \"NLP\"], [\"React\", \"Django\"]]\n",
    "df[\"Skills\"] = [[], \"Python, Tableau, SQL\", [], [\"ML\", \"DL\", \"NLP\"], [\"React\", \"Django\"]]\n",
    "\n",
    "df"
   ]
  },
  {
   "cell_type": "code",
   "execution_count": 45,
   "id": "0ded963f-242d-4a37-b1fd-d418277c233a",
   "metadata": {},
   "outputs": [
    {
     "data": {
      "text/plain": [
       "0                      \n",
       "1    Python,Tableau,SQL\n",
       "2                      \n",
       "3             ML,DL,NLP\n",
       "4          React,Django\n",
       "Name: skills, dtype: object"
      ]
     },
     "execution_count": 45,
     "metadata": {},
     "output_type": "execute_result"
    }
   ],
   "source": [
    "df.skills.str.join(\",\")"
   ]
  },
  {
   "cell_type": "code",
   "execution_count": 46,
   "id": "5d7a7e50-737e-4eef-8cb9-4389dc536781",
   "metadata": {},
   "outputs": [
    {
     "data": {
      "text/plain": [
       "0                                           \n",
       "1    P,y,t,h,o,n,,, ,T,a,b,l,e,a,u,,, ,S,Q,L\n",
       "2                                           \n",
       "3                                  ML,DL,NLP\n",
       "4                               React,Django\n",
       "Name: Skills, dtype: object"
      ]
     },
     "execution_count": 46,
     "metadata": {},
     "output_type": "execute_result"
    }
   ],
   "source": [
    "df.Skills.str.join(\",\")"
   ]
  },
  {
   "cell_type": "code",
   "execution_count": 47,
   "id": "a0e59706-e36a-4a9a-a951-da910789c22c",
   "metadata": {},
   "outputs": [
    {
     "data": {
      "text/plain": [
       "0                        \n",
       "1    Python, Tableau, SQL\n",
       "2                        \n",
       "3               ML,DL,NLP\n",
       "4            React,Django\n",
       "Name: Skills, dtype: object"
      ]
     },
     "execution_count": 47,
     "metadata": {},
     "output_type": "execute_result"
    }
   ],
   "source": [
    "# yukarıdaki her iki durum için tek satırda bu işlemi gerçekleştirebiliriz\n",
    "df.Skills.apply(lambda item: \",\".join(item) if type(item)== list else item)"
   ]
  },
  {
   "cell_type": "code",
   "execution_count": 48,
   "id": "ef46b766-518a-4e24-a6bf-62e857f749e8",
   "metadata": {},
   "outputs": [
    {
     "data": {
      "text/plain": [
       "0                        \n",
       "1    Python, Tableau, SQL\n",
       "2                        \n",
       "3               ML,DL,NLP\n",
       "4            React,Django\n",
       "Name: Skills, dtype: object"
      ]
     },
     "execution_count": 48,
     "metadata": {},
     "output_type": "execute_result"
    }
   ],
   "source": [
    "df.Skills = df.Skills.apply(lambda item: \",\".join(item) if type(item)== list else item)\n",
    "\n",
    "df.Skills"
   ]
  },
  {
   "cell_type": "code",
   "execution_count": null,
   "id": "42f8dd84-6926-4686-9cc6-a9f2fa966eec",
   "metadata": {},
   "outputs": [],
   "source": []
  }
 ],
 "metadata": {
  "kernelspec": {
   "display_name": "Python 3 (ipykernel)",
   "language": "python",
   "name": "python3"
  },
  "language_info": {
   "codemirror_mode": {
    "name": "ipython",
    "version": 3
   },
   "file_extension": ".py",
   "mimetype": "text/x-python",
   "name": "python",
   "nbconvert_exporter": "python",
   "pygments_lexer": "ipython3",
   "version": "3.9.13"
  }
 },
 "nbformat": 4,
 "nbformat_minor": 5
}
